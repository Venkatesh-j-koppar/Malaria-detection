{
 "cells": [
  {
   "cell_type": "code",
   "execution_count": 3,
   "metadata": {},
   "outputs": [
    {
     "name": "stdout",
     "output_type": "stream",
     "text": [
      " * Serving Flask app \"__main__\" (lazy loading)\n",
      " * Environment: production\n",
      "   WARNING: Do not use the development server in a production environment.\n",
      "   Use a production WSGI server instead.\n",
      " * Debug mode: on\n"
     ]
    },
    {
     "name": "stderr",
     "output_type": "stream",
     "text": [
      " * Restarting with windowsapi reloader\n"
     ]
    },
    {
     "ename": "SystemExit",
     "evalue": "1",
     "output_type": "error",
     "traceback": [
      "An exception has occurred, use %tb to see the full traceback.\n",
      "\u001b[1;31mSystemExit\u001b[0m\u001b[1;31m:\u001b[0m 1\n"
     ]
    }
   ],
   "source": [
    "from flask import Flask, render_template, request\n",
    "from keras.models import load_model\n",
    "import tensorflow as tf\n",
    "import numpy as np\n",
    "import re\n",
    "from keras.preprocessing import image\n",
    "from skimage import transform\n",
    "\n",
    "app = Flask(__name__)\n",
    "loaded_model = load_model(\"models/model_malaria.h5\")\n",
    "loaded_model._make_predict_function()\n",
    "graph = tf.get_default_graph()\n",
    "\n",
    "def ValuePredictor(np_arr):   \n",
    "    global graph\n",
    "    with graph.as_default():\n",
    "        result = loaded_model.predict(np_arr)\n",
    "    return result[0]\n",
    "\n",
    "def image_preprocess(img):\n",
    "  new_shape = (50, 50, 3)\n",
    "  img = image.load_img(img)\n",
    "  image_array = image.img_to_array(img)\n",
    "  image_array = transform.resize(image_array, new_shape, anti_aliasing = True)\n",
    "  image_array /= 255\n",
    "  image_array = np.expand_dims(image_array, axis = 0)\n",
    "  return image_array\n",
    "\n",
    "@app.route('/')\n",
    "def home():\n",
    "  return render_template(\"home.html\")\n",
    "@app.route('/result', methods = ['POST'])\n",
    "def result():\n",
    "    prediction=''\n",
    "    if request.method == 'POST':\n",
    "        img = request.files['pic']\n",
    "        img_arr = image_preprocess(img)\n",
    "        result = ValuePredictor(img_arr)\n",
    "        print(\"result from model\", result) \n",
    "        result = int(np.argmax(result))\n",
    "        print(\"result actual\", result) \n",
    "        if result==0:\n",
    "            prediction='This cell is most likely to be Not Infected with Malarial Parasite.'\n",
    "        else:\n",
    "            prediction='This cell is most likely to be Infected with Malarial Parasite.'\n",
    "        print(prediction)\n",
    "        return render_template(\"result.html\", prediction=prediction)\n",
    "\n",
    "if __name__ == \"__main__\":\n",
    "  app.run(debug = True)"
   ]
  },
  {
   "cell_type": "code",
   "execution_count": null,
   "metadata": {},
   "outputs": [],
   "source": []
  }
 ],
 "metadata": {
  "kernelspec": {
   "display_name": "Python 3",
   "language": "python",
   "name": "python3"
  },
  "language_info": {
   "codemirror_mode": {
    "name": "ipython",
    "version": 3
   },
   "file_extension": ".py",
   "mimetype": "text/x-python",
   "name": "python",
   "nbconvert_exporter": "python",
   "pygments_lexer": "ipython3",
   "version": "3.7.7"
  }
 },
 "nbformat": 4,
 "nbformat_minor": 4
}
